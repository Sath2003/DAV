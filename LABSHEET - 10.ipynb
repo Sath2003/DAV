{
 "cells": [
  {
   "cell_type": "markdown",
   "metadata": {},
   "source": [
    "MARKET BASKET\n",
    "\n",
    "HOW DOES MARKET BASKET ANALYSIS WORK?\n",
    "IT IS FREQUENTLY USED IN RESTAURANTS,RETAIL STORES AND ONLINE SHOPPING PLATFORMS TO ENCOURAGE CUSTOMERS TO MAKE MORE PURCHASES IN A SINGLE VISIT. THIS IS A USE CASE OF DATA SCIENCE IN MARKETING THAT INCREASES COMPANY SALES AND DRIVES BUSINESS GROWTH ABD COMMONLY UTILIZES THE APRIORI ALGORITHM\n",
    "\n",
    "WHAT IS APRIORI ALGORITHM?\n",
    "IT IS THE MOST COMMON TECHNIQUE FOR PERFORMING MARKET BASKET ANALYSIS. IT IS USED FOR ASSOCIATION RULE MINING WHICH IS A RULE BASED PROCESS USED TO IDENTIFY CO-RELATIONS BETWEEN ITEMS PURCHASED AND THE USER.\n",
    "\n",
    "\n",
    "WHAT ARE THE COMPONENTS OF APRIORI ALGORITHM?\n",
    "1. SUPPORT - TO ASSESS THE OVERALL POPULARTY OF GIVEN PRODUCT WITH FOLLOWING FORMULA\n",
    "             SUPPORT(ITEM) = ((Transactions comprising the item)/(Total transactions))\n",
    "2. LIFT - \n",
    "3. CONFIDENCE - COMBINATION IS MATCHING.\n",
    "                CONFIDENCE(Berad>Milk) = ((Tranasction compromising milk and bread)/(transaction compromsisng bread))\n"
   ]
  },
  {
   "cell_type": "code",
   "execution_count": null,
   "metadata": {},
   "outputs": [],
   "source": []
  }
 ],
 "metadata": {
  "language_info": {
   "name": "python"
  }
 },
 "nbformat": 4,
 "nbformat_minor": 2
}
