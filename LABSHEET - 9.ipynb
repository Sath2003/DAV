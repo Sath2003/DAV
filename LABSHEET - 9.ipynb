{
 "cells": [
  {
   "cell_type": "markdown",
   "metadata": {},
   "source": [
    "A TIME SERIES DATA IS THE SERIES OF DATA POINTS LISTED IN TIME ORDER\n",
    "A TIME SERIES IS A SEQUENCE OF SUCCESSIVE EQUAL UNTERVAL POINTS OF TIME\n",
    "A TIME SERIES ANALYSIS CONSISTS OF METHODS FOR ANALYZING DATA "
   ]
  },
  {
   "cell_type": "code",
   "execution_count": null,
   "metadata": {},
   "outputs": [],
   "source": [
    "import pandas as pd\n",
    "import numpy as np\n",
    "import matplotlib.pyplot as plt"
   ]
  }
 ],
 "metadata": {
  "kernelspec": {
   "display_name": "Python 3",
   "language": "python",
   "name": "python3"
  },
  "language_info": {
   "codemirror_mode": {
    "name": "ipython",
    "version": 3
   },
   "file_extension": ".py",
   "mimetype": "text/x-python",
   "name": "python",
   "nbconvert_exporter": "python",
   "pygments_lexer": "ipython3",
   "version": "3.10.8"
  }
 },
 "nbformat": 4,
 "nbformat_minor": 2
}
