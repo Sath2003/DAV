{
 "cells": [
  {
   "cell_type": "markdown",
   "metadata": {},
   "source": [
    "DATA CLEANING AND DATA PREPROCESSING\n",
    "1. Data cleaning is the process of changing or eliminating garbage,incorrect,duplcate or incomplete values\n",
    "2. Data Preprocessing - Identifying what and which type of values are lost and filling them "
   ]
  },
  {
   "cell_type": "markdown",
   "metadata": {},
   "source": [
    "DATA CLEANING CYCLE STAGES\n",
    "1. Importing dataset\n",
    "2. Merging dataset\n",
    "3. Re-build missing data\n",
    "4. Standardize the format \n",
    "5. Normalise\n",
    "6. De-Duplicate\n",
    "7. Verify and Enrich"
   ]
  },
  {
   "cell_type": "code",
   "execution_count": 11,
   "metadata": {},
   "outputs": [
    {
     "name": "stdout",
     "output_type": "stream",
     "text": [
      "        one       two     three\n",
      "a -0.825619 -1.240841 -0.892867\n",
      "c -1.220331 -0.368383  1.436189\n",
      "e -0.120633 -0.280699 -0.300854\n",
      "f  0.651956  0.670539  1.106800\n",
      "h -0.947730  2.416729 -0.401619\n"
     ]
    }
   ],
   "source": [
    "import pandas as pd\n",
    "import numpy as np\n",
    "df = pd.DataFrame(np.random.randn(5,3),index=['a','c','e','f','h'],columns=['one','two','three'])\n",
    "print(df)\n"
   ]
  },
  {
   "cell_type": "code",
   "execution_count": 10,
   "metadata": {},
   "outputs": [
    {
     "name": "stdout",
     "output_type": "stream",
     "text": [
      "        one       two     three\n",
      "a -1.839210  0.895047 -0.731920\n",
      "b       NaN       NaN       NaN\n",
      "c -1.694288 -1.259759  0.650543\n",
      "d       NaN       NaN       NaN\n",
      "e -0.728048  0.974804 -0.022990\n",
      "f  0.672410  0.408284 -0.042583\n",
      "g       NaN       NaN       NaN\n",
      "h  1.296098 -1.253100 -0.775085\n"
     ]
    }
   ],
   "source": [
    "df1 = df.reindex(['a','b','c','d','e','f','g','h'])\n",
    "print(df1)"
   ]
  },
  {
   "cell_type": "markdown",
   "metadata": {},
   "source": [
    "2 .CHECKING THE MISSING VALUE USING"
   ]
  },
  {
   "cell_type": "code",
   "execution_count": 14,
   "metadata": {},
   "outputs": [
    {
     "name": "stdout",
     "output_type": "stream",
     "text": [
      "a    False\n",
      "b     True\n",
      "c    False\n",
      "d     True\n",
      "e    False\n",
      "f    False\n",
      "g     True\n",
      "h    False\n",
      "Name: one, dtype: bool\n",
      "a    False\n",
      "b     True\n",
      "c    False\n",
      "d     True\n",
      "e    False\n",
      "f    False\n",
      "g     True\n",
      "h    False\n",
      "Name: one, dtype: bool\n",
      "a    False\n",
      "b     True\n",
      "c    False\n",
      "d     True\n",
      "e    False\n",
      "f    False\n",
      "g     True\n",
      "h    False\n",
      "Name: one, dtype: bool\n"
     ]
    }
   ],
   "source": [
    "a = df1['one'].isnull()\n",
    "b = df1['one'].isnull()\n",
    "c = df1['one'].isnull()\n",
    "print(a)\n",
    "print(b)\n",
    "print(c)"
   ]
  },
  {
   "cell_type": "markdown",
   "metadata": {},
   "source": [
    "REPLACING THE ISSING VALUE"
   ]
  },
  {
   "cell_type": "code",
   "execution_count": 16,
   "metadata": {},
   "outputs": [
    {
     "name": "stdout",
     "output_type": "stream",
     "text": [
      "        one       two     three\n",
      "a -1.839210  0.895047 -0.731920\n",
      "b       NaN       NaN       NaN\n",
      "c -1.694288 -1.259759  0.650543\n",
      "d       NaN       NaN       NaN\n",
      "e -0.728048  0.974804 -0.022990\n",
      "f  0.672410  0.408284 -0.042583\n",
      "g       NaN       NaN       NaN\n",
      "h  1.296098 -1.253100 -0.775085\n",
      "NaN replaced with '0':\n",
      "        one       two     three\n",
      "a -1.839210  0.895047 -0.731920\n",
      "b  0.000000  0.000000  0.000000\n",
      "c -1.694288 -1.259759  0.650543\n",
      "d  0.000000  0.000000  0.000000\n",
      "e -0.728048  0.974804 -0.022990\n",
      "f  0.672410  0.408284 -0.042583\n",
      "g  0.000000  0.000000  0.000000\n",
      "h  1.296098 -1.253100 -0.775085\n"
     ]
    }
   ],
   "source": [
    "print(df1)\n",
    "print(\"NaN replaced with '0':\")\n",
    "print(df1.fillna(0))"
   ]
  },
  {
   "cell_type": "markdown",
   "metadata": {},
   "source": [
    "FILLING NA CAN BE DONE IN TWO WAYS\n",
    "1. FORMARD - pad/fill\n",
    "2. BACKWARD - dfill"
   ]
  },
  {
   "cell_type": "code",
   "execution_count": 18,
   "metadata": {},
   "outputs": [
    {
     "name": "stdout",
     "output_type": "stream",
     "text": [
      "Before Filling\n",
      "        one       two     three\n",
      "a -0.825619 -1.240841 -0.892867\n",
      "b       NaN       NaN       NaN\n",
      "c -1.220331 -0.368383  1.436189\n",
      "d       NaN       NaN       NaN\n",
      "e -0.120633 -0.280699 -0.300854\n",
      "f  0.651956  0.670539  1.106800\n",
      "g       NaN       NaN       NaN\n",
      "h -0.947730  2.416729 -0.401619\n",
      "After Filling\n",
      "        one       two     three\n",
      "a -0.825619 -1.240841 -0.892867\n",
      "b -0.825619 -1.240841 -0.892867\n",
      "c -1.220331 -0.368383  1.436189\n",
      "d -1.220331 -0.368383  1.436189\n",
      "e -0.120633 -0.280699 -0.300854\n",
      "f  0.651956  0.670539  1.106800\n",
      "g  0.651956  0.670539  1.106800\n",
      "h -0.947730  2.416729 -0.401619\n"
     ]
    }
   ],
   "source": [
    "df1 = df.reindex(['a','b','c','d','e','f','g','h'])\n",
    "print(\"Before Filling\")\n",
    "print(df1)\n",
    "print(\"After Filling\")\n",
    "print(df1.fillna(method='pad'))"
   ]
  },
  {
   "cell_type": "code",
   "execution_count": 19,
   "metadata": {},
   "outputs": [
    {
     "name": "stdout",
     "output_type": "stream",
     "text": [
      "Before Filling\n",
      "        one       two     three\n",
      "a -0.825619 -1.240841 -0.892867\n",
      "b       NaN       NaN       NaN\n",
      "c -1.220331 -0.368383  1.436189\n",
      "d       NaN       NaN       NaN\n",
      "e -0.120633 -0.280699 -0.300854\n",
      "f  0.651956  0.670539  1.106800\n",
      "g       NaN       NaN       NaN\n",
      "h -0.947730  2.416729 -0.401619\n",
      "After Filling\n",
      "        one       two     three\n",
      "a -0.825619 -1.240841 -0.892867\n",
      "b -1.220331 -0.368383  1.436189\n",
      "c -1.220331 -0.368383  1.436189\n",
      "d -0.120633 -0.280699 -0.300854\n",
      "e -0.120633 -0.280699 -0.300854\n",
      "f  0.651956  0.670539  1.106800\n",
      "g -0.947730  2.416729 -0.401619\n",
      "h -0.947730  2.416729 -0.401619\n"
     ]
    }
   ],
   "source": [
    "df1 = df.reindex(['a','b','c','d','e','f','g','h'])\n",
    "print(\"Before Filling\")\n",
    "print(df1)\n",
    "print(\"After Filling\")\n",
    "print(df1.fillna(method='bfill'))"
   ]
  }
 ],
 "metadata": {
  "kernelspec": {
   "display_name": "Python 3",
   "language": "python",
   "name": "python3"
  },
  "language_info": {
   "codemirror_mode": {
    "name": "ipython",
    "version": 3
   },
   "file_extension": ".py",
   "mimetype": "text/x-python",
   "name": "python",
   "nbconvert_exporter": "python",
   "pygments_lexer": "ipython3",
   "version": "3.10.8"
  }
 },
 "nbformat": 4,
 "nbformat_minor": 2
}
