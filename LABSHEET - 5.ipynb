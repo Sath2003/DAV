{
 "cells": [
  {
   "cell_type": "markdown",
   "metadata": {},
   "source": [
    "DATA CLEANING AND DATA PREPROCESSING\n",
    "1. Data cleaning is the process of changing or eliminating garbage,incorrect,duplcate or incomplete values\n",
    "2. Data Preprocessing - Identifying what and which type of values are lost and filling them "
   ]
  },
  {
   "cell_type": "markdown",
   "metadata": {},
   "source": [
    "DATA CLEANING CYCLE STAGES\n",
    "1. Importing dataset\n",
    "2. Merging dataset\n",
    "3. Re-build missing data\n",
    "4. Standardize the format \n",
    "5. Normalise\n",
    "6. De-Duplicate\n",
    "7. Verify and Enrich"
   ]
  },
  {
   "cell_type": "code",
   "execution_count": 1,
   "metadata": {},
   "outputs": [
    {
     "name": "stdout",
     "output_type": "stream",
     "text": [
      "        one       two     three\n",
      "a  1.026425  0.269625 -0.909831\n",
      "c -0.474820 -0.282352 -0.254088\n",
      "e -0.468462  0.313884  0.932545\n",
      "f  0.980006  1.536773 -1.731291\n",
      "h -0.932239  0.949792 -1.625921\n"
     ]
    }
   ],
   "source": [
    "import pandas as pd\n",
    "import numpy as np\n",
    "df = pd.DataFrame(np.random.randn(5,3),index=['a','c','e','f','h'],columns=['one','two','three'])\n",
    "print(df)\n"
   ]
  },
  {
   "cell_type": "code",
   "execution_count": 2,
   "metadata": {},
   "outputs": [
    {
     "name": "stdout",
     "output_type": "stream",
     "text": [
      "        one       two     three\n",
      "a  1.026425  0.269625 -0.909831\n",
      "b       NaN       NaN       NaN\n",
      "c -0.474820 -0.282352 -0.254088\n",
      "d       NaN       NaN       NaN\n",
      "e -0.468462  0.313884  0.932545\n",
      "f  0.980006  1.536773 -1.731291\n",
      "g       NaN       NaN       NaN\n",
      "h -0.932239  0.949792 -1.625921\n"
     ]
    }
   ],
   "source": [
    "df1 = df.reindex(['a','b','c','d','e','f','g','h'])\n",
    "print(df1)"
   ]
  },
  {
   "cell_type": "markdown",
   "metadata": {},
   "source": [
    "2 .CHECKING THE MISSING VALUE USING"
   ]
  },
  {
   "cell_type": "code",
   "execution_count": 3,
   "metadata": {},
   "outputs": [
    {
     "name": "stdout",
     "output_type": "stream",
     "text": [
      "a    False\n",
      "b     True\n",
      "c    False\n",
      "d     True\n",
      "e    False\n",
      "f    False\n",
      "g     True\n",
      "h    False\n",
      "Name: one, dtype: bool\n",
      "a    False\n",
      "b     True\n",
      "c    False\n",
      "d     True\n",
      "e    False\n",
      "f    False\n",
      "g     True\n",
      "h    False\n",
      "Name: one, dtype: bool\n",
      "a    False\n",
      "b     True\n",
      "c    False\n",
      "d     True\n",
      "e    False\n",
      "f    False\n",
      "g     True\n",
      "h    False\n",
      "Name: one, dtype: bool\n"
     ]
    }
   ],
   "source": [
    "a = df1['one'].isnull()\n",
    "b = df1['one'].isnull()\n",
    "c = df1['one'].isnull()\n",
    "print(a)\n",
    "print(b)\n",
    "print(c)"
   ]
  },
  {
   "cell_type": "markdown",
   "metadata": {},
   "source": [
    "REPLACING THE ISSING VALUE"
   ]
  },
  {
   "cell_type": "code",
   "execution_count": 4,
   "metadata": {},
   "outputs": [
    {
     "name": "stdout",
     "output_type": "stream",
     "text": [
      "        one       two     three\n",
      "a  1.026425  0.269625 -0.909831\n",
      "b       NaN       NaN       NaN\n",
      "c -0.474820 -0.282352 -0.254088\n",
      "d       NaN       NaN       NaN\n",
      "e -0.468462  0.313884  0.932545\n",
      "f  0.980006  1.536773 -1.731291\n",
      "g       NaN       NaN       NaN\n",
      "h -0.932239  0.949792 -1.625921\n",
      "NaN replaced with '0':\n",
      "        one       two     three\n",
      "a  1.026425  0.269625 -0.909831\n",
      "b  0.000000  0.000000  0.000000\n",
      "c -0.474820 -0.282352 -0.254088\n",
      "d  0.000000  0.000000  0.000000\n",
      "e -0.468462  0.313884  0.932545\n",
      "f  0.980006  1.536773 -1.731291\n",
      "g  0.000000  0.000000  0.000000\n",
      "h -0.932239  0.949792 -1.625921\n"
     ]
    }
   ],
   "source": [
    "print(df1)\n",
    "print(\"NaN replaced with '0':\")\n",
    "print(df1.fillna(0))"
   ]
  },
  {
   "cell_type": "markdown",
   "metadata": {},
   "source": [
    "FILLING NA CAN BE DONE IN TWO WAYS\n",
    "1. FORMARD - pad/fill\n",
    "2. BACKWARD - dfill"
   ]
  },
  {
   "cell_type": "code",
   "execution_count": 5,
   "metadata": {},
   "outputs": [
    {
     "name": "stdout",
     "output_type": "stream",
     "text": [
      "Before Filling\n",
      "        one       two     three\n",
      "a  1.026425  0.269625 -0.909831\n",
      "b       NaN       NaN       NaN\n",
      "c -0.474820 -0.282352 -0.254088\n",
      "d       NaN       NaN       NaN\n",
      "e -0.468462  0.313884  0.932545\n",
      "f  0.980006  1.536773 -1.731291\n",
      "g       NaN       NaN       NaN\n",
      "h -0.932239  0.949792 -1.625921\n",
      "After Filling\n",
      "        one       two     three\n",
      "a  1.026425  0.269625 -0.909831\n",
      "b  1.026425  0.269625 -0.909831\n",
      "c -0.474820 -0.282352 -0.254088\n",
      "d -0.474820 -0.282352 -0.254088\n",
      "e -0.468462  0.313884  0.932545\n",
      "f  0.980006  1.536773 -1.731291\n",
      "g  0.980006  1.536773 -1.731291\n",
      "h -0.932239  0.949792 -1.625921\n"
     ]
    }
   ],
   "source": [
    "df1 = df.reindex(['a','b','c','d','e','f','g','h'])\n",
    "print(\"Before Filling\")\n",
    "print(df1)\n",
    "print(\"After Filling\")\n",
    "print(df1.fillna(method='pad'))"
   ]
  },
  {
   "cell_type": "code",
   "execution_count": 6,
   "metadata": {},
   "outputs": [
    {
     "name": "stdout",
     "output_type": "stream",
     "text": [
      "Before Filling\n",
      "        one       two     three\n",
      "a  1.026425  0.269625 -0.909831\n",
      "b       NaN       NaN       NaN\n",
      "c -0.474820 -0.282352 -0.254088\n",
      "d       NaN       NaN       NaN\n",
      "e -0.468462  0.313884  0.932545\n",
      "f  0.980006  1.536773 -1.731291\n",
      "g       NaN       NaN       NaN\n",
      "h -0.932239  0.949792 -1.625921\n",
      "After Filling\n",
      "        one       two     three\n",
      "a  1.026425  0.269625 -0.909831\n",
      "b -0.474820 -0.282352 -0.254088\n",
      "c -0.474820 -0.282352 -0.254088\n",
      "d -0.468462  0.313884  0.932545\n",
      "e -0.468462  0.313884  0.932545\n",
      "f  0.980006  1.536773 -1.731291\n",
      "g -0.932239  0.949792 -1.625921\n",
      "h -0.932239  0.949792 -1.625921\n"
     ]
    }
   ],
   "source": [
    "df1 = df.reindex(['a','b','c','d','e','f','g','h'])\n",
    "print(\"Before Filling\")\n",
    "print(df1)\n",
    "print(\"After Filling\")\n",
    "print(df1.fillna(method='bfill'))"
   ]
  },
  {
   "cell_type": "markdown",
   "metadata": {},
   "source": [
    "DROP MISSING VALUES"
   ]
  },
  {
   "cell_type": "code",
   "execution_count": 8,
   "metadata": {},
   "outputs": [
    {
     "name": "stdout",
     "output_type": "stream",
     "text": [
      "        one       two     three\n",
      "a -1.004545 -0.777403 -1.607373\n",
      "c -1.289273 -0.939339  0.118560\n",
      "e -0.162397 -0.211794 -0.122847\n",
      "f  2.232897 -0.165743 -0.726791\n",
      "h  0.571958  1.302435 -1.397000\n",
      "        one       two     three\n",
      "a -1.004545 -0.777403 -1.607373\n",
      "b       NaN       NaN       NaN\n",
      "c -1.289273 -0.939339  0.118560\n",
      "d       NaN       NaN       NaN\n",
      "e -0.162397 -0.211794 -0.122847\n",
      "f  2.232897 -0.165743 -0.726791\n",
      "g       NaN       NaN       NaN\n",
      "h  0.571958  1.302435 -1.397000\n",
      "Drop the Missing Values using Drop NA Function\n",
      "        one       two     three\n",
      "a -1.004545 -0.777403 -1.607373\n",
      "c -1.289273 -0.939339  0.118560\n",
      "e -0.162397 -0.211794 -0.122847\n",
      "f  2.232897 -0.165743 -0.726791\n",
      "h  0.571958  1.302435 -1.397000\n"
     ]
    }
   ],
   "source": [
    "df = pd.DataFrame(np.random.randn(5,3),index=['a','c','e','f','h'],columns=['one','two','three'])\n",
    "print(df)\n",
    "df1 = df.reindex(['a','b','c','d','e','f','g','h'])\n",
    "print(df1)\n",
    "print(\"Drop the Missing Values using Drop NA Function\")\n",
    "print(df1.dropna())"
   ]
  },
  {
   "cell_type": "markdown",
   "metadata": {},
   "source": [
    "REPLACE MISSING (OR) GENERIC VALUES"
   ]
  },
  {
   "cell_type": "code",
   "execution_count": 13,
   "metadata": {},
   "outputs": [
    {
     "name": "stdout",
     "output_type": "stream",
     "text": [
      "Before Replacement\n",
      "    one   two\n",
      "0    10  1000\n",
      "1    20     0\n",
      "2    30    30\n",
      "3    40    40\n",
      "4    50    50\n",
      "5  2000    60\n",
      "After Replacement\n",
      "   one  two\n",
      "0   10   10\n",
      "1   20   20\n",
      "2   30   30\n",
      "3   40   40\n",
      "4   50   50\n",
      "5   60   60\n"
     ]
    }
   ],
   "source": [
    "df= pd.DataFrame({'one':[10,20,30,40,50,2000],'two':[1000,0,30,40,50,60]})\n",
    "print(\"Before Replacement\")\n",
    "print(df)\n",
    "print(\"After Replacement\")\n",
    "print(df.replace({1000:10,2000:60,0:20}))"
   ]
  }
 ],
 "metadata": {
  "kernelspec": {
   "display_name": "Python 3",
   "language": "python",
   "name": "python3"
  },
  "language_info": {
   "codemirror_mode": {
    "name": "ipython",
    "version": 3
   },
   "file_extension": ".py",
   "mimetype": "text/x-python",
   "name": "python",
   "nbconvert_exporter": "python",
   "pygments_lexer": "ipython3",
   "version": "3.10.8"
  }
 },
 "nbformat": 4,
 "nbformat_minor": 2
}
