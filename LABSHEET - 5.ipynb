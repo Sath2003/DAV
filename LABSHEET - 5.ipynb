{
 "cells": [
  {
   "cell_type": "markdown",
   "metadata": {},
   "source": [
    "DATA CLEANING AND DATA PREPROCESSING\n",
    "1. Data cleaning is the process of changing or eliminating garbage,incorrect,duplcate or incomplete values\n",
    "2. Data Preprocessing - Identifying what and which type of values are lost and filling them "
   ]
  },
  {
   "cell_type": "markdown",
   "metadata": {},
   "source": [
    "DATA CLEANING CYCLE STAGES\n",
    "1. Importing dataset\n",
    "2. Merging dataset\n",
    "3. Re-build missing data\n",
    "4. Standardize the format \n",
    "5. Normalise\n",
    "6. De-Duplicate\n",
    "7. Verify and Enrich"
   ]
  },
  {
   "cell_type": "code",
   "execution_count": 2,
   "metadata": {},
   "outputs": [
    {
     "name": "stdout",
     "output_type": "stream",
     "text": [
      "        one       two     three\n",
      "a -1.510030 -0.259332 -0.731306\n",
      "c -0.341762 -1.228631  0.589450\n",
      "e  0.360549 -0.761814  1.456560\n",
      "f -0.375046 -0.609064 -0.260023\n",
      "h  1.141701  1.550250  2.353629\n"
     ]
    }
   ],
   "source": [
    "import pandas as pd\n",
    "import numpy as np\n",
    "df = pd.DataFrame(np.random.randn(5,3),index=['a','c','e','f','h'],columns=['one','two','three'])\n",
    "print(df)\n"
   ]
  },
  {
   "cell_type": "code",
   "execution_count": 3,
   "metadata": {},
   "outputs": [
    {
     "name": "stdout",
     "output_type": "stream",
     "text": [
      "        one       two     three\n",
      "a -1.510030 -0.259332 -0.731306\n",
      "b       NaN       NaN       NaN\n",
      "c -0.341762 -1.228631  0.589450\n",
      "d       NaN       NaN       NaN\n",
      "e  0.360549 -0.761814  1.456560\n",
      "f -0.375046 -0.609064 -0.260023\n",
      "g       NaN       NaN       NaN\n",
      "h  1.141701  1.550250  2.353629\n"
     ]
    }
   ],
   "source": [
    "df1 = df.reindex(['a','b','c','d','e','f','g','h'])\n",
    "print(df1)"
   ]
  },
  {
   "cell_type": "markdown",
   "metadata": {},
   "source": [
    "2 .CHECKING THE MISSING VALUE USING"
   ]
  },
  {
   "cell_type": "code",
   "execution_count": 5,
   "metadata": {},
   "outputs": [
    {
     "name": "stdout",
     "output_type": "stream",
     "text": [
      "a    False\n",
      "b     True\n",
      "c    False\n",
      "d     True\n",
      "e    False\n",
      "f    False\n",
      "g     True\n",
      "h    False\n",
      "Name: one, dtype: bool\n",
      "a    False\n",
      "b     True\n",
      "c    False\n",
      "d     True\n",
      "e    False\n",
      "f    False\n",
      "g     True\n",
      "h    False\n",
      "Name: two, dtype: bool\n",
      "a    False\n",
      "b     True\n",
      "c    False\n",
      "d     True\n",
      "e    False\n",
      "f    False\n",
      "g     True\n",
      "h    False\n",
      "Name: three, dtype: bool\n"
     ]
    }
   ],
   "source": [
    "a = df1['one'].isnull()\n",
    "b = df1['two'].isnull()\n",
    "c = df1['three'].isnull()\n",
    "print(a)\n",
    "print(b)\n",
    "print(c)"
   ]
  },
  {
   "cell_type": "markdown",
   "metadata": {},
   "source": [
    "REPLACING THE ISSING VALUE"
   ]
  },
  {
   "cell_type": "code",
   "execution_count": null,
   "metadata": {},
   "outputs": [
    {
     "name": "stdout",
     "output_type": "stream",
     "text": [
      "        one       two     three\n",
      "a -1.286262 -0.895527 -1.136792\n",
      "b       NaN       NaN       NaN\n",
      "c -0.522502  0.385919  0.251853\n",
      "d       NaN       NaN       NaN\n",
      "e -0.348278  2.596694  0.756616\n",
      "f -0.211520 -0.069118  1.508077\n",
      "g       NaN       NaN       NaN\n",
      "h  1.150185  0.681784  0.375253\n",
      "NaN replaced with '0':\n",
      "        one       two     three\n",
      "a -1.286262 -0.895527 -1.136792\n",
      "b  0.000000  0.000000  0.000000\n",
      "c -0.522502  0.385919  0.251853\n",
      "d  0.000000  0.000000  0.000000\n",
      "e -0.348278  2.596694  0.756616\n",
      "f -0.211520 -0.069118  1.508077\n",
      "g  0.000000  0.000000  0.000000\n",
      "h  1.150185  0.681784  0.375253\n"
     ]
    }
   ],
   "source": [
    "print(df1)\n",
    "print(\"NaN replaced with '0':\")\n",
    "print(df1.fillna(0))"
   ]
  },
  {
   "cell_type": "markdown",
   "metadata": {},
   "source": [
    "FILLING NA CAN BE DONE IN TWO WAYS\n",
    "1. FORMARD - pad/fill\n",
    "2. BACKWARD - dfill"
   ]
  },
  {
   "cell_type": "code",
   "execution_count": null,
   "metadata": {},
   "outputs": [
    {
     "name": "stdout",
     "output_type": "stream",
     "text": [
      "Before Filling\n",
      "        one       two     three\n",
      "a -1.286262 -0.895527 -1.136792\n",
      "b       NaN       NaN       NaN\n",
      "c -0.522502  0.385919  0.251853\n",
      "d       NaN       NaN       NaN\n",
      "e -0.348278  2.596694  0.756616\n",
      "f -0.211520 -0.069118  1.508077\n",
      "g       NaN       NaN       NaN\n",
      "h  1.150185  0.681784  0.375253\n",
      "After Filling\n",
      "        one       two     three\n",
      "a -1.286262 -0.895527 -1.136792\n",
      "b -1.286262 -0.895527 -1.136792\n",
      "c -0.522502  0.385919  0.251853\n",
      "d -0.522502  0.385919  0.251853\n",
      "e -0.348278  2.596694  0.756616\n",
      "f -0.211520 -0.069118  1.508077\n",
      "g -0.211520 -0.069118  1.508077\n",
      "h  1.150185  0.681784  0.375253\n"
     ]
    }
   ],
   "source": [
    "df1 = df.reindex(['a','b','c','d','e','f','g','h'])\n",
    "print(\"Before Filling\")\n",
    "print(df1)\n",
    "print(\"After Filling\")\n",
    "print(df1.fillna(method='pad'))"
   ]
  },
  {
   "cell_type": "code",
   "execution_count": null,
   "metadata": {},
   "outputs": [
    {
     "name": "stdout",
     "output_type": "stream",
     "text": [
      "Before Filling\n",
      "        one       two     three\n",
      "a -1.286262 -0.895527 -1.136792\n",
      "b       NaN       NaN       NaN\n",
      "c -0.522502  0.385919  0.251853\n",
      "d       NaN       NaN       NaN\n",
      "e -0.348278  2.596694  0.756616\n",
      "f -0.211520 -0.069118  1.508077\n",
      "g       NaN       NaN       NaN\n",
      "h  1.150185  0.681784  0.375253\n",
      "After Filling\n",
      "        one       two     three\n",
      "a -1.286262 -0.895527 -1.136792\n",
      "b -0.522502  0.385919  0.251853\n",
      "c -0.522502  0.385919  0.251853\n",
      "d -0.348278  2.596694  0.756616\n",
      "e -0.348278  2.596694  0.756616\n",
      "f -0.211520 -0.069118  1.508077\n",
      "g  1.150185  0.681784  0.375253\n",
      "h  1.150185  0.681784  0.375253\n"
     ]
    }
   ],
   "source": [
    "df1 = df.reindex(['a','b','c','d','e','f','g','h'])\n",
    "print(\"Before Filling\")\n",
    "print(df1)\n",
    "print(\"After Filling\")\n",
    "print(df1.fillna(method='bfill'))"
   ]
  },
  {
   "cell_type": "markdown",
   "metadata": {},
   "source": [
    "DROP MISSING VALUES"
   ]
  },
  {
   "cell_type": "code",
   "execution_count": null,
   "metadata": {},
   "outputs": [
    {
     "name": "stdout",
     "output_type": "stream",
     "text": [
      "        one       two     three\n",
      "a  1.521844 -0.710664 -1.533465\n",
      "c  0.209762  0.072368  0.779785\n",
      "e  0.670220 -0.338005 -0.378979\n",
      "f  0.151283  1.747091  0.919902\n",
      "h  0.882230 -1.690014  0.913879\n",
      "        one       two     three\n",
      "a  1.521844 -0.710664 -1.533465\n",
      "b       NaN       NaN       NaN\n",
      "c  0.209762  0.072368  0.779785\n",
      "d       NaN       NaN       NaN\n",
      "e  0.670220 -0.338005 -0.378979\n",
      "f  0.151283  1.747091  0.919902\n",
      "g       NaN       NaN       NaN\n",
      "h  0.882230 -1.690014  0.913879\n",
      "Drop the Missing Values\n",
      "        one       two     three\n",
      "a  1.521844 -0.710664 -1.533465\n",
      "c  0.209762  0.072368  0.779785\n",
      "e  0.670220 -0.338005 -0.378979\n",
      "f  0.151283  1.747091  0.919902\n",
      "h  0.882230 -1.690014  0.913879\n"
     ]
    }
   ],
   "source": [
    "df = pd.DataFrame(np.random.randn(5,3),index=['a','c','e','f','h'],columns=['one','two','three'])\n",
    "print(df)\n",
    "df1 = df.reindex(['a','b','c','d','e','f','g','h'])\n",
    "print(df1)\n",
    "print(\"Drop the Missing Values\")\n",
    "print(df1.dropna())"
   ]
  },
  {
   "cell_type": "markdown",
   "metadata": {},
   "source": [
    "REPLACE MISSING (OR) GENERIC VALUES"
   ]
  },
  {
   "cell_type": "code",
   "execution_count": null,
   "metadata": {},
   "outputs": [
    {
     "name": "stdout",
     "output_type": "stream",
     "text": [
      "Before Replacement\n",
      "    one   two\n",
      "0    10  1000\n",
      "1    20     0\n",
      "2    30    30\n",
      "3    40    40\n",
      "4    50    50\n",
      "5  2000    60\n",
      "After Replacement\n",
      "   one  two\n",
      "0   10   10\n",
      "1   20   20\n",
      "2   30   30\n",
      "3   40   40\n",
      "4   50   50\n",
      "5   60   60\n"
     ]
    }
   ],
   "source": [
    "df= pd.DataFrame({'one':[10,20,30,40,50,2000],'two':[1000,0,30,40,50,60]})\n",
    "print(\"Before Replacement\")\n",
    "print(df)\n",
    "print(\"After Replacement\")\n",
    "print(df.replace({1000:10,2000:60,0:20}))"
   ]
  },
  {
   "cell_type": "code",
   "execution_count": null,
   "metadata": {},
   "outputs": [
    {
     "name": "stdout",
     "output_type": "stream",
     "text": [
      "<class 'pandas.core.frame.DataFrame'>\n",
      "RangeIndex: 418 entries, 0 to 417\n",
      "Data columns (total 12 columns):\n",
      " #   Column       Non-Null Count  Dtype  \n",
      "---  ------       --------------  -----  \n",
      " 0   PassengerId  418 non-null    int64  \n",
      " 1   Survived     418 non-null    int64  \n",
      " 2   Pclass       418 non-null    int64  \n",
      " 3   Name         418 non-null    object \n",
      " 4   Sex          418 non-null    object \n",
      " 5   Age          332 non-null    float64\n",
      " 6   SibSp        418 non-null    int64  \n",
      " 7   Parch        418 non-null    int64  \n",
      " 8   Ticket       418 non-null    object \n",
      " 9   Fare         417 non-null    float64\n",
      " 10  Cabin        91 non-null     object \n",
      " 11  Embarked     418 non-null    object \n",
      "dtypes: float64(2), int64(5), object(5)\n",
      "memory usage: 39.3+ KB\n"
     ]
    }
   ],
   "source": [
    "df = pd.read_csv('/workspaces/DAV/tested.csv')\n",
    "df.info()"
   ]
  },
  {
   "cell_type": "markdown",
   "metadata": {},
   "source": [
    "DROPING THE COLUMNS THAT ARE NOT REQUIRED"
   ]
  },
  {
   "cell_type": "code",
   "execution_count": null,
   "metadata": {},
   "outputs": [
    {
     "name": "stdout",
     "output_type": "stream",
     "text": [
      "<class 'pandas.core.frame.DataFrame'>\n",
      "RangeIndex: 418 entries, 0 to 417\n",
      "Data columns (total 9 columns):\n",
      " #   Column       Non-Null Count  Dtype  \n",
      "---  ------       --------------  -----  \n",
      " 0   PassengerId  418 non-null    int64  \n",
      " 1   Survived     418 non-null    int64  \n",
      " 2   Pclass       418 non-null    int64  \n",
      " 3   Sex          418 non-null    object \n",
      " 4   Age          332 non-null    float64\n",
      " 5   SibSp        418 non-null    int64  \n",
      " 6   Parch        418 non-null    int64  \n",
      " 7   Fare         417 non-null    float64\n",
      " 8   Embarked     418 non-null    object \n",
      "dtypes: float64(2), int64(5), object(2)\n",
      "memory usage: 29.5+ KB\n"
     ]
    }
   ],
   "source": [
    "cols=['Name','Ticket','Cabin']\n",
    "df=df.drop(cols,axis=1)\n",
    "df.info()"
   ]
  },
  {
   "cell_type": "markdown",
   "metadata": {},
   "source": [
    "DROP THE ROWS HAVING NO VALUES"
   ]
  },
  {
   "cell_type": "code",
   "execution_count": null,
   "metadata": {},
   "outputs": [
    {
     "name": "stdout",
     "output_type": "stream",
     "text": [
      "<class 'pandas.core.frame.DataFrame'>\n",
      "Index: 331 entries, 0 to 415\n",
      "Data columns (total 9 columns):\n",
      " #   Column       Non-Null Count  Dtype  \n",
      "---  ------       --------------  -----  \n",
      " 0   PassengerId  331 non-null    int64  \n",
      " 1   Survived     331 non-null    int64  \n",
      " 2   Pclass       331 non-null    int64  \n",
      " 3   Sex          331 non-null    object \n",
      " 4   Age          331 non-null    float64\n",
      " 5   SibSp        331 non-null    int64  \n",
      " 6   Parch        331 non-null    int64  \n",
      " 7   Fare         331 non-null    float64\n",
      " 8   Embarked     331 non-null    object \n",
      "dtypes: float64(2), int64(5), object(2)\n",
      "memory usage: 25.9+ KB\n"
     ]
    }
   ],
   "source": [
    "df=df.dropna()\n",
    "df.info()"
   ]
  },
  {
   "cell_type": "markdown",
   "metadata": {},
   "source": [
    "CREATING DUMMY VARIABLES"
   ]
  },
  {
   "cell_type": "code",
   "execution_count": null,
   "metadata": {},
   "outputs": [],
   "source": [
    "dummies = []\n",
    "cols = ['Pclass','Sex','Embarked']\n",
    "for col in cols:\n",
    "    dummies.append(pd.get_dummies(df[col]))\n",
    "    "
   ]
  },
  {
   "cell_type": "markdown",
   "metadata": {},
   "source": [
    "CONCATENATE THE VALUES WITH DATA FRAME"
   ]
  },
  {
   "cell_type": "markdown",
   "metadata": {},
   "source": [
    "titanic_dummies = pd.concat(dummies,axis=1)\n",
    "df = pd.concat((df,titanic_dummies),axis=1)\n",
    "df"
   ]
  },
  {
   "cell_type": "markdown",
   "metadata": {},
   "source": [
    "REMOVE THE UNWANTED COLUMNS"
   ]
  },
  {
   "cell_type": "code",
   "execution_count": null,
   "metadata": {},
   "outputs": [],
   "source": [
    "df = df.drop(['Pclass','Sex','Embarked'],axis=1)"
   ]
  },
  {
   "cell_type": "markdown",
   "metadata": {},
   "source": [
    "TAKE CARE OF MISSING DATA"
   ]
  },
  {
   "cell_type": "code",
   "execution_count": null,
   "metadata": {},
   "outputs": [
    {
     "name": "stdout",
     "output_type": "stream",
     "text": [
      "0      False\n",
      "1      False\n",
      "2      False\n",
      "3      False\n",
      "4      False\n",
      "       ...  \n",
      "409    False\n",
      "411    False\n",
      "412    False\n",
      "414    False\n",
      "415    False\n",
      "Name: Age, Length: 331, dtype: bool\n",
      "     PassengerId  Survived   Age  SibSp  Parch      Fare      1      2      3  \\\n",
      "0            892         0  34.5      0      0    7.8292  False  False   True   \n",
      "1            893         1  47.0      1      0    7.0000  False  False   True   \n",
      "2            894         0  62.0      0      0    9.6875  False   True  False   \n",
      "3            895         0  27.0      0      0    8.6625  False  False   True   \n",
      "4            896         1  22.0      1      1   12.2875  False  False   True   \n",
      "..           ...       ...   ...    ...    ...       ...    ...    ...    ...   \n",
      "409         1301         1   3.0      1      1   13.7750  False  False   True   \n",
      "411         1303         1  37.0      1      0   90.0000   True  False  False   \n",
      "412         1304         1  28.0      0      0    7.7750  False  False   True   \n",
      "414         1306         1  39.0      0      0  108.9000   True  False  False   \n",
      "415         1307         0  38.5      0      0    7.2500  False  False   True   \n",
      "\n",
      "     female  ...      Q      S      1      2      3  female   male      C  \\\n",
      "0     False  ...   True  False  False  False   True   False   True  False   \n",
      "1      True  ...  False   True  False  False   True    True  False  False   \n",
      "2     False  ...   True  False  False   True  False   False   True  False   \n",
      "3     False  ...  False   True  False  False   True   False   True  False   \n",
      "4      True  ...  False   True  False  False   True    True  False  False   \n",
      "..      ...  ...    ...    ...    ...    ...    ...     ...    ...    ...   \n",
      "409    True  ...  False   True  False  False   True    True  False  False   \n",
      "411    True  ...   True  False   True  False  False    True  False  False   \n",
      "412    True  ...  False   True  False  False   True    True  False  False   \n",
      "414    True  ...  False  False   True  False  False    True  False   True   \n",
      "415   False  ...  False   True  False  False   True   False   True  False   \n",
      "\n",
      "         Q      S  \n",
      "0     True  False  \n",
      "1    False   True  \n",
      "2     True  False  \n",
      "3    False   True  \n",
      "4    False   True  \n",
      "..     ...    ...  \n",
      "409  False   True  \n",
      "411   True  False  \n",
      "412  False   True  \n",
      "414  False  False  \n",
      "415  False   True  \n",
      "\n",
      "[331 rows x 22 columns]\n"
     ]
    }
   ],
   "source": [
    "print(df['Age'].isnull())\n",
    "df['Age'] = df['Age'].interpolate()\n",
    "print(df)"
   ]
  },
  {
   "cell_type": "markdown",
   "metadata": {},
   "source": [
    "NORMALISATION OR MIN MAX SCALER AND STANDARDIZATION\n",
    "\n",
    "NORMALISATION : Rescalling data from original range so that all values are within the new range of 0 and 1\n",
    "y = (X - )"
   ]
  },
  {
   "cell_type": "code",
   "execution_count": null,
   "metadata": {},
   "outputs": [
    {
     "name": "stdout",
     "output_type": "stream",
     "text": [
      "MinMaxScaler()\n",
      "[ 1. 18.]\n",
      "[[0.         0.11111111]\n",
      " [0.25       0.        ]\n",
      " [0.5        0.55555556]\n",
      " [1.         1.        ]]\n"
     ]
    }
   ],
   "source": [
    "from sklearn.preprocessing import MinMaxScaler\n",
    "data = [[-1,2],[-0.5,0],[0,10],[1,18]]\n",
    "scaler = MinMaxScaler()\n",
    "print(scaler.fit(data))\n",
    "MinMaxScaler()\n",
    "print(scaler.data_max_)\n",
    "print(scaler.transform(data))"
   ]
  },
  {
   "cell_type": "markdown",
   "metadata": {},
   "source": [
    "STANDARDIZING a dataset involves  re-scalling\n",
    "sd = sqrt(sum((x-mean)^2)) / count(x))"
   ]
  },
  {
   "cell_type": "code",
   "execution_count": null,
   "metadata": {},
   "outputs": [
    {
     "name": "stdout",
     "output_type": "stream",
     "text": [
      "[[1.0e+02 1.0e-03]\n",
      " [8.0e+00 5.0e-02]\n",
      " [5.0e+01 5.0e-03]\n",
      " [8.8e+01 7.0e-02]\n",
      " [4.0e+00 1.0e-01]]\n",
      "[[ 1.26398112 -1.16389967]\n",
      " [-1.06174414  0.12639634]\n",
      " [ 0.         -1.05856939]\n",
      " [ 0.96062565  0.65304778]\n",
      " [-1.16286263  1.44302493]]\n"
     ]
    }
   ],
   "source": [
    "from numpy import asarray\n",
    "from sklearn.preprocessing import StandardScaler\n",
    "data = asarray([[100,0.001],[8,0.05],[50,0.005],[88,0.07],[4,0.1]])\n",
    "print(data)\n",
    "scaler = StandardScaler()\n",
    "scaled = scaler.fit_transform(data)\n",
    "print(scaled)"
   ]
  }
 ],
 "metadata": {
  "kernelspec": {
   "display_name": "Python 3",
   "language": "python",
   "name": "python3"
  },
  "language_info": {
   "codemirror_mode": {
    "name": "ipython",
    "version": 3
   },
   "file_extension": ".py",
   "mimetype": "text/x-python",
   "name": "python",
   "nbconvert_exporter": "python",
   "pygments_lexer": "ipython3",
   "version": "3.10.8"
  }
 },
 "nbformat": 4,
 "nbformat_minor": 2
}
