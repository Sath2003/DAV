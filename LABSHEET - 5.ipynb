{
 "cells": [
  {
   "cell_type": "markdown",
   "metadata": {},
   "source": [
    "DATA CLEANING AND DATA PREPROCESSING\n",
    "1. Data cleaning is the process of changing or eliminating garbage,incorrect,duplcate or incomplete values\n",
    "2. Data Preprocessing - Identifying what and which type of values are lost and filling them "
   ]
  },
  {
   "cell_type": "markdown",
   "metadata": {},
   "source": [
    "DATA CLEANING CYCLE STAGES\n",
    "1. Importing dataset\n",
    "2. Merging dataset\n",
    "3. Re-build missing data\n",
    "4. Standardize the format \n",
    "5. Normalise\n",
    "6. De-Duplicate\n",
    "7. Verify and Enrich"
   ]
  },
  {
   "cell_type": "code",
   "execution_count": 8,
   "metadata": {},
   "outputs": [
    {
     "name": "stdout",
     "output_type": "stream",
     "text": [
      "        one       two     three\n",
      "a -1.839210  0.895047 -0.731920\n",
      "c -1.694288 -1.259759  0.650543\n",
      "e -0.728048  0.974804 -0.022990\n",
      "f  0.672410  0.408284 -0.042583\n",
      "h  1.296098 -1.253100 -0.775085\n",
      "        one       two     three\n",
      "a -1.839210  0.895047 -0.731920\n",
      "b       NaN       NaN       NaN\n",
      "c -1.694288 -1.259759  0.650543\n",
      "d       NaN       NaN       NaN\n",
      "e -0.728048  0.974804 -0.022990\n",
      "f  0.672410  0.408284 -0.042583\n",
      "g       NaN       NaN       NaN\n",
      "h  1.296098 -1.253100 -0.775085\n"
     ]
    }
   ],
   "source": [
    "import pandas as pd\n",
    "import numpy as np\n",
    "df = pd.DataFrame(np.random.randn(5,3),index=['a','c','e','f','h'],columns=['one','two','three'])\n",
    "print(df)\n",
    "df = df.reindex(['a','b','c','d','e','f','g','h'])\n",
    "print(df)"
   ]
  }
 ],
 "metadata": {
  "kernelspec": {
   "display_name": "Python 3",
   "language": "python",
   "name": "python3"
  },
  "language_info": {
   "codemirror_mode": {
    "name": "ipython",
    "version": 3
   },
   "file_extension": ".py",
   "mimetype": "text/x-python",
   "name": "python",
   "nbconvert_exporter": "python",
   "pygments_lexer": "ipython3",
   "version": "3.10.8"
  }
 },
 "nbformat": 4,
 "nbformat_minor": 2
}
