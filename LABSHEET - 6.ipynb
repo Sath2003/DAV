{
 "cells": [
  {
   "cell_type": "markdown",
   "metadata": {},
   "source": [
    "PRINCIPLE COMPONENT ANALYSIS :-\n",
    "\n",
    "1. It tries to preserve the essential parts that has more variation of the data and remove the non-essential parts with fewer varia\n",
    "2. PCA is a statistical procedure that uses an orhtogonal trnasforamtion to convert a set of observations of possibly co related variables.\n",
    "3. Used in Data Visualisation for dimensionality reduction \n",
    "4. Ehen the data is projected into a lower dimension from a higher space, the three dimensions are nothin gbut the three Principal Components that capture most of the variance"
   ]
  }
 ],
 "metadata": {
  "language_info": {
   "name": "python"
  }
 },
 "nbformat": 4,
 "nbformat_minor": 2
}
